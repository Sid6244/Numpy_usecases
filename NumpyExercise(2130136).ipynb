{
  "nbformat": 4,
  "nbformat_minor": 0,
  "metadata": {
    "colab": {
      "provenance": [],
      "authorship_tag": "ABX9TyPI0OBNtV3cnhv/mZSgaXh+",
      "include_colab_link": true
    },
    "kernelspec": {
      "name": "python3",
      "display_name": "Python 3"
    },
    "language_info": {
      "name": "python"
    }
  },
  "cells": [
    {
      "cell_type": "markdown",
      "metadata": {
        "id": "view-in-github",
        "colab_type": "text"
      },
      "source": [
        "<a href=\"https://colab.research.google.com/github/Sid6244/Numpy_usecases/blob/main/NumpyExercise(2130136).ipynb\" target=\"_parent\"><img src=\"https://colab.research.google.com/assets/colab-badge.svg\" alt=\"Open In Colab\"/></a>"
      ]
    },
    {
      "cell_type": "code",
      "execution_count": null,
      "metadata": {
        "colab": {
          "base_uri": "https://localhost:8080/"
        },
        "id": "50OmkuUSHAUB",
        "outputId": "10b67b03-eb35-4e1b-cf81-1cac2878241d"
      },
      "outputs": [
        {
          "output_type": "execute_result",
          "data": {
            "text/plain": [
              "array([[ 5. ,  5. ,  5. ,  5. ,  1. ,  0. ,  0. ,  0. ],\n",
              "       [ 5. ,  5. ,  5. ,  5. ,  0. ,  1. ,  0. ,  0. ],\n",
              "       [ 5. ,  5. ,  5. ,  5. ,  0. ,  0. ,  1. ,  0. ],\n",
              "       [ 5. ,  5. ,  5. ,  5. ,  0. ,  0. ,  0. ,  1. ],\n",
              "       [ 0.8,  0.8,  0.8,  0.8, -3. ,  0. ,  0. ,  0. ],\n",
              "       [ 0.8,  0.8,  0.8,  0.8,  0. , -4. ,  0. ,  0. ],\n",
              "       [ 0.8,  0.8,  0.8,  0.8,  0. ,  0. , -5. ,  0. ],\n",
              "       [ 0.8,  0.8,  0.8,  0.8,  0. ,  0. ,  0. , -6. ]])"
            ]
          },
          "metadata": {},
          "execution_count": 21
        }
      ],
      "source": [
        "#NUMPY EXERCISE ASSSIGNMENT\n",
        "#1)\n",
        "import numpy as np\n",
        "arr=[[5.,5.,5.,5.,1,0.,0.,0.],\n",
        " [5.,5.,5.,5.,0.,1.,0.,0.],\n",
        "  [5.,5.,5.,5.,0.,0.,1.,0.],\n",
        "   [5.,5.,5.,5.,0.,0.,0.,1.],\n",
        "    [0.8,0.8,0.8,0.8,-3,0.,0.,0.],\n",
        "     [0.8,0.8,0.8,0.8,0.,-4.,0.,0.],\n",
        "      [0.8,0.8,0.8,0.8,0.,0.,-5.,0.],\n",
        "       [0.8,0.8,0.8,0.8,0.,0.,0.,-6.]]\n",
        "np.array(arr)\n",
        "\n"
      ]
    },
    {
      "cell_type": "code",
      "source": [
        "#2)\n",
        "np.random.randn(25)"
      ],
      "metadata": {
        "colab": {
          "base_uri": "https://localhost:8080/"
        },
        "id": "1JyUHGriQRD8",
        "outputId": "8dde94ee-f4ae-4818-d5fc-a3435bbed4d3"
      },
      "execution_count": null,
      "outputs": [
        {
          "output_type": "execute_result",
          "data": {
            "text/plain": [
              "array([-0.22309756,  1.02988922, -0.96615368,  0.07023584, -0.79851453,\n",
              "       -0.04748485, -0.37217346, -0.29157788, -0.25679899,  1.56327992,\n",
              "       -0.07462141,  0.75190181,  0.37930628, -0.63265381, -0.73376193,\n",
              "       -0.56083772, -1.10430586,  0.01560341, -1.1733479 , -0.99850674,\n",
              "        0.94323989, -0.28633845,  1.45867126,  0.14551962,  1.00016592])"
            ]
          },
          "metadata": {},
          "execution_count": 10
        }
      ]
    },
    {
      "cell_type": "code",
      "source": [
        "#3)\n",
        "a=np.arange(0.01,1.01,0.01).reshape(10,10)\n",
        "a"
      ],
      "metadata": {
        "colab": {
          "base_uri": "https://localhost:8080/"
        },
        "id": "9pVTl_u7SzXP",
        "outputId": "2b2f579e-7484-4222-edd1-f22d1a5b71c7"
      },
      "execution_count": null,
      "outputs": [
        {
          "output_type": "execute_result",
          "data": {
            "text/plain": [
              "array([[0.01, 0.02, 0.03, 0.04, 0.05, 0.06, 0.07, 0.08, 0.09, 0.1 ],\n",
              "       [0.11, 0.12, 0.13, 0.14, 0.15, 0.16, 0.17, 0.18, 0.19, 0.2 ],\n",
              "       [0.21, 0.22, 0.23, 0.24, 0.25, 0.26, 0.27, 0.28, 0.29, 0.3 ],\n",
              "       [0.31, 0.32, 0.33, 0.34, 0.35, 0.36, 0.37, 0.38, 0.39, 0.4 ],\n",
              "       [0.41, 0.42, 0.43, 0.44, 0.45, 0.46, 0.47, 0.48, 0.49, 0.5 ],\n",
              "       [0.51, 0.52, 0.53, 0.54, 0.55, 0.56, 0.57, 0.58, 0.59, 0.6 ],\n",
              "       [0.61, 0.62, 0.63, 0.64, 0.65, 0.66, 0.67, 0.68, 0.69, 0.7 ],\n",
              "       [0.71, 0.72, 0.73, 0.74, 0.75, 0.76, 0.77, 0.78, 0.79, 0.8 ],\n",
              "       [0.81, 0.82, 0.83, 0.84, 0.85, 0.86, 0.87, 0.88, 0.89, 0.9 ],\n",
              "       [0.91, 0.92, 0.93, 0.94, 0.95, 0.96, 0.97, 0.98, 0.99, 1.  ]])"
            ]
          },
          "metadata": {},
          "execution_count": 19
        }
      ]
    },
    {
      "cell_type": "code",
      "source": [
        "#4)\n",
        "b=np.linspace(0,2,20)\n",
        "b"
      ],
      "metadata": {
        "colab": {
          "base_uri": "https://localhost:8080/"
        },
        "id": "qXZTjCsJZ7z_",
        "outputId": "981dbfba-1947-4da8-ecf8-b7593fcd8187"
      },
      "execution_count": null,
      "outputs": [
        {
          "output_type": "execute_result",
          "data": {
            "text/plain": [
              "array([0.        , 0.10526316, 0.21052632, 0.31578947, 0.42105263,\n",
              "       0.52631579, 0.63157895, 0.73684211, 0.84210526, 0.94736842,\n",
              "       1.05263158, 1.15789474, 1.26315789, 1.36842105, 1.47368421,\n",
              "       1.57894737, 1.68421053, 1.78947368, 1.89473684, 2.        ])"
            ]
          },
          "metadata": {},
          "execution_count": 20
        }
      ]
    },
    {
      "cell_type": "code",
      "source": [
        "#5)\n",
        "import numpy as np\n",
        "A=np.arange(1,26,1).reshape(5,5)\n",
        "A"
      ],
      "metadata": {
        "colab": {
          "base_uri": "https://localhost:8080/"
        },
        "id": "_P2BSWzjcWOd",
        "outputId": "35334bf5-a88d-4d98-9aac-7315f775da39"
      },
      "execution_count": null,
      "outputs": [
        {
          "output_type": "execute_result",
          "data": {
            "text/plain": [
              "array([[ 1,  2,  3,  4,  5],\n",
              "       [ 6,  7,  8,  9, 10],\n",
              "       [11, 12, 13, 14, 15],\n",
              "       [16, 17, 18, 19, 20],\n",
              "       [21, 22, 23, 24, 25]])"
            ]
          },
          "metadata": {},
          "execution_count": 6
        }
      ]
    },
    {
      "cell_type": "code",
      "source": [
        "A[1:3,0:2]=[[0,0],[0,0]]\n",
        "A[3:5,3:5]=[[1,0],[0,1]]\n",
        "A"
      ],
      "metadata": {
        "colab": {
          "base_uri": "https://localhost:8080/"
        },
        "id": "wpyyXcKDoFKn",
        "outputId": "0b76035d-cdc9-4662-f764-4d879ec66249"
      },
      "execution_count": null,
      "outputs": [
        {
          "output_type": "execute_result",
          "data": {
            "text/plain": [
              "array([[ 1,  2,  3,  4,  5],\n",
              "       [ 0,  0,  8,  9, 10],\n",
              "       [ 0,  0, 13, 14, 15],\n",
              "       [16, 17, 18,  1,  0],\n",
              "       [21, 22, 23,  0,  1]])"
            ]
          },
          "metadata": {},
          "execution_count": 7
        }
      ]
    },
    {
      "cell_type": "code",
      "source": [
        "#6)\n",
        "np.max(A,axis=1)"
      ],
      "metadata": {
        "colab": {
          "base_uri": "https://localhost:8080/"
        },
        "id": "77u9zTpuoRaF",
        "outputId": "be5c4f14-7716-41d3-e1dd-fc9fd6bd4a5e"
      },
      "execution_count": null,
      "outputs": [
        {
          "output_type": "execute_result",
          "data": {
            "text/plain": [
              "array([ 5, 10, 15, 18, 23])"
            ]
          },
          "metadata": {},
          "execution_count": 8
        }
      ]
    }
  ]
}